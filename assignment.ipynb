{
 "cells": [
  {
   "cell_type": "markdown",
   "source": [
    "# Question 1"
   ],
   "metadata": {}
  },
  {
   "cell_type": "markdown",
   "source": [
    "a)  Finding the solution of the equations using crout's"
   ],
   "metadata": {}
  },
  {
   "cell_type": "code",
   "execution_count": null,
   "source": [
    "import library as lib\r\n",
    "mata=lib.read_Matrix('q1mata')\r\n",
    "print('The coefficient matrix A:')\r\n",
    "lib.display_Matrix(mata)\r\n",
    "matb=lib.read_Matrix('q1matb')\r\n",
    "print('The matrix containing constants')\r\n",
    "lib.display_Matrix(matb)\r\n",
    "print('The matrix containing solutions')\r\n",
    "lib.display_Matrix(lib.forwardbackwardsub_crouts(lib.lu_crouts(mata,matb)))"
   ],
   "outputs": [],
   "metadata": {}
  },
  {
   "cell_type": "markdown",
   "source": [
    "a)  finding the solution of the equations using doolittle's method"
   ],
   "metadata": {}
  },
  {
   "cell_type": "code",
   "execution_count": null,
   "source": [
    "import library as lib\r\n",
    "mata=lib.read_Matrix('q1mata')\r\n",
    "print('The coefficient matrix A:')\r\n",
    "lib.display_Matrix(mata)\r\n",
    "matb=lib.read_Matrix('q1matb')\r\n",
    "print('The matrix containing constants')\r\n",
    "lib.display_Matrix(matb)\r\n",
    "print('The matrix containing solutions')\r\n",
    "lib.display_Matrix(lib.forwardbackwardsub_doolittle(lib.lu_doolittle(mata,matb)))"
   ],
   "outputs": [],
   "metadata": {}
  },
  {
   "cell_type": "markdown",
   "source": [
    "# Question 2"
   ],
   "metadata": {}
  },
  {
   "cell_type": "code",
   "execution_count": null,
   "source": [
    "import library as lib\r\n",
    "mata=lib.read_Matrix('q2mat')\r\n",
    "print('The input matrix A:')\r\n",
    "lib.display_Matrix(mata)\r\n",
    "print('The inverse matrix A inverse:')\r\n",
    "lib.display_Matrix(lib.inverse_Matrix(mata))"
   ],
   "outputs": [],
   "metadata": {}
  },
  {
   "cell_type": "markdown",
   "source": [
    "# Question 3"
   ],
   "metadata": {}
  },
  {
   "cell_type": "code",
   "execution_count": null,
   "source": [
    "import library as lib\r\n",
    "mata=lib.read_Matrix('q3mata')\r\n",
    "print('The coefficient matrix A:')\r\n",
    "lib.display_Matrix(mata)\r\n",
    "matb=lib.read_Matrix('q3matb')\r\n",
    "print('The matrix containing constants')\r\n",
    "lib.display_Matrix(matb)\r\n",
    "print('The matrix containing solutions')\r\n",
    "lib.display_Matrix(lib.forwardbackwardsub_cholesky(lib.lu_cholesky(mata,matb)))"
   ],
   "outputs": [],
   "metadata": {}
  }
 ],
 "metadata": {
  "orig_nbformat": 4,
  "language_info": {
   "name": "python",
   "version": "3.8.2"
  },
  "kernelspec": {
   "name": "python3",
   "display_name": "Python 3.8.2 32-bit"
  },
  "interpreter": {
   "hash": "39f609d08d6ab318db60311ef2868d533d22fcd50911eb127d0700327648b3fb"
  }
 },
 "nbformat": 4,
 "nbformat_minor": 2
}